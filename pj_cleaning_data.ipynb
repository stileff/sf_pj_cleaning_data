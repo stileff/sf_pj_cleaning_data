{
 "cells": [
  {
   "cell_type": "code",
   "execution_count": 60,
   "metadata": {},
   "outputs": [],
   "source": [
    "#Импорт необходимых инструментов для проекта\n",
    "import pandas as pd\n",
    "import matplotlib.pyplot as plt\n",
    "import seaborn as sns\n",
    "import os"
   ]
  },
  {
   "cell_type": "code",
   "execution_count": 61,
   "metadata": {},
   "outputs": [],
   "source": [
    "# Функция переименования столбцов в датафрейме\n",
    "def data_columns_rename(df, columns_dict):\n",
    "    df.rename(columns=columns_dict, inplace=True)\n",
    "\n",
    "# Функция объеднения датасетов и удаление ненужных столбцов\n",
    "def concat_and_drop(data1, data2, list_columns):\n",
    "    df = pd.concat([data1, data2], ignore_index=True)\n",
    "    df.drop(columns=list_columns, inplace=True)\n",
    "    return df\n",
    "\n",
    "# Функция очистки данных от пустых значений\n",
    "def clean_nan(data):\n",
    "    cols_null_percent = data.isnull().mean() * 100\n",
    "    cols_with_null = cols_null_percent[cols_null_percent>0].sort_values(ascending=False)\n",
    "    \n",
    "    for index, values in cols_with_null.items():\n",
    "        if values >= 30:\n",
    "            data.drop(columns=[index], inplace = True\n",
    "    data = data.dropna(how='any', axis=0)\n",
    "    return data"
   ]
  },
  {
   "cell_type": "code",
   "execution_count": null,
   "metadata": {},
   "outputs": [],
   "source": [
    "# Импортируем все необходимые датасеты в проект\n",
    "diabets_data = pd.read_csv('datasets/diabetes.csv')\n",
    "test_data = pd.read_csv('datasets/test.csv')\n",
    "health_indicators_data = pd.read_csv('datasets/diabetes_012_health_indicators_BRFSS2015.csv')\n",
    "\n",
    "display(diabets_data.info())\n",
    "display(diabets_data.head(10))\n",
    "display(test_data.head(10))\n",
    "display(health_indicators_data.head(10))"
   ]
  },
  {
   "cell_type": "markdown",
   "metadata": {},
   "source": [
    "# Анализ датасета 1"
   ]
  },
  {
   "cell_type": "code",
   "execution_count": null,
   "metadata": {},
   "outputs": [],
   "source": [
    "diabets_data_sort = diabets_data[diabets_data['Outcome'] == 1]\n",
    "\n",
    "list_columns = ['Age', 'Pregnancies', 'BMI']\n",
    "\n",
    "fig, ax = plt.subplots()\n",
    "sns.boxplot(\n",
    "        data=diabets_data_sort,\n",
    "        x='Age',\n",
    "        ax=ax\n",
    "    );\n",
    "ax.set_title(f'Histogram show age of patients in dataset')\n",
    "\n",
    "fig, axes = plt.subplots(1, len(list_columns), figsize=(20,5))\n",
    "for index, name in enumerate(list_columns):\n",
    "    sns.histplot(\n",
    "        data=diabets_data_sort,\n",
    "        x=name,\n",
    "        ax=axes[index]\n",
    "    );\n",
    "    axes[index].set_title(f'Histogram show count patient with diabets of {name}')\n",
    "\n",
    "sns.lmplot(\n",
    "    data=diabets_data_sort,\n",
    "    x='BMI',\n",
    "    y='Glucose',\n",
    "    aspect=3,\n",
    "    height=5\n",
    ");"
   ]
  },
  {
   "cell_type": "markdown",
   "metadata": {},
   "source": [
    "# Вывод:\n",
    "По первому датасету можно обратить внимание, что основной возраст развития диабета среди женщин попадает в диапазон 28 - 44 лет. При этом в данном датасете особо не наблюдается развитие диабета с количеством беременности и показателем функции развития диабета. Стоит также отметить, что у пациентов с диабетом индекс массы тела варьирует в пределах 20 - 55, что соответствует избыточной массе тела. Из данного дата сета можно сделать вывод, что диабет развивается с избыточным весом."
   ]
  },
  {
   "cell_type": "markdown",
   "metadata": {},
   "source": [
    "# 2. Объединение датасета 1 и датасета 2"
   ]
  },
  {
   "cell_type": "code",
   "execution_count": null,
   "metadata": {},
   "outputs": [],
   "source": [
    "# Добавим колонку sex в датасет 1\n",
    "diabets_data['Sex'] = 'F'\n",
    "# Переименуем столбец Outcome в Diabets\n",
    "data_columns_rename(diabets_data, {'Outcome': 'Diabetes'})\n",
    "\n",
    "\n",
    "# Переименуем столбцы в датасете 2, чтоб они бились с датасет 1\n",
    "# Словарь содержит список переименованных столбцов\n",
    "columns_dict = {\n",
    "        'sex': 'Sex', \n",
    "        'diabetes': 'Diabetes', \n",
    "        'diaBP': 'BloodPressure', \n",
    "        'glucose': 'Glucose',\n",
    "        'age': 'Age'\n",
    "    }\n",
    "# Вызывается функция переименования столбца\n",
    "data_columns_rename(test_data, columns_dict)\n",
    "\n",
    "# Объединяем датасет 1 с датасет 2 и удаляем ненужные столбцы\n",
    "# Получаем списки неповторяющихся колонок в обоих DataFrame\n",
    "list_cols_drop = list(set(diabets_data.columns) ^ set(test_data.columns))\n",
    "\n",
    "# Объединяем датасет1 и датасет2, а также удаляем неповторяющиеся колонки\n",
    "df_concat = concat_and_drop(diabets_data, test_data, list_cols_drop)\n",
    "df_concat"
   ]
  },
  {
   "cell_type": "markdown",
   "metadata": {},
   "source": [
    "# Комментарий:\n",
    "Перед анализом полученных данных очистим их от пустых значений.\n",
    "В ходе анализа были обнаружены"
   ]
  },
  {
   "cell_type": "code",
   "execution_count": null,
   "metadata": {},
   "outputs": [],
   "source": [
    "# Определяем критичность количества пустых значений\n",
    "df_clean = clean_nan(df_concat)\n",
    "df_clean"
   ]
  }
 ],
 "metadata": {
  "kernelspec": {
   "display_name": "Python 3",
   "language": "python",
   "name": "python3"
  },
  "language_info": {
   "codemirror_mode": {
    "name": "ipython",
    "version": 3
   },
   "file_extension": ".py",
   "mimetype": "text/x-python",
   "name": "python",
   "nbconvert_exporter": "python",
   "pygments_lexer": "ipython3",
   "version": "3.11.1"
  }
 },
 "nbformat": 4,
 "nbformat_minor": 2
}
